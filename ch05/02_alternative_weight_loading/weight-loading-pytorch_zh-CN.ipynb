{
  "cells": [
    {
      "cell_type": "markdown",
      "id": "6d6bc54f-2b16-4b0f-be69-957eed5d112f",
      "metadata": {},
      "source": [
        "<table style=\"width:100%\">\n",
        "<tr>\n",
        "<td style=\"vertical-align:middle; text-align:left;\">\n",
        "<font size=\"2\">\n",
        "Supplementary 代码 for 这个 <一个 href=\"http://mng.bz/orYv\">构建 一个 大语言模型 From Scratch</一个> book by <一个 href=\"https://sebastianraschka.com\">Sebastian Raschka</一个><br>\n",
        "<br>代码 repository: <一个 href=\"https://github.com/rasbt/LLMs-from-scratch\">https://github.com/rasbt/LLMs-from-scratch</一个>\n",
        "</font>\n",
        "</td>\n",
        "<td style=\"vertical-align:middle; text-align:left;\">\n",
        "<一个 href=\"http://mng.bz/orYv\"><img src=\"https://sebastianraschka.com/images/LLMs-from-scratch-images/cover-small.webp\" width=\"100px\"></一个>\n",
        "</td>\n",
        "</tr>\n",
        "</table>"
      ]
    },
    {
      "cell_type": "markdown",
      "id": "72953590-5363-4398-85ce-54bde07f3d8a",
      "metadata": {},
      "source": [
        "# Bonus 代码 for 第 5"
      ]
    },
    {
      "cell_type": "markdown",
      "id": "1a4ab5ee-e7b9-45d3-a82b-a12bcfc0945a",
      "metadata": {},
      "source": [
        "## Alternative 权重 Loading from PyTorch state dicts"
      ]
    },
    {
      "cell_type": "markdown",
      "id": "b2feea87-49f0-48b9-b925-b8f0dda4096f",
      "metadata": {},
      "source": [
        "- In 这个 main 第, 我们 loaded 这个 GPT 模型 weights directly from OpenAI\n",
        "- 这个 笔记本 provides alternative 权重 loading 代码 to 加载 这个 模型 weights from PyTorch state dict files 那个 I created from 这个 original TensorFlow files 和 uploaded to 这个 [Hugging Face 模型 Hub](https://huggingface.co/docs/hub/en/models-这个-hub) at [https://huggingface.co/rasbt/gpt2-from-scratch-pytorch](https://huggingface.co/rasbt/gpt2-from-scratch-pytorch)\n",
        "- 这个 is conceptually 这个 same as loading weights of 一个 PyTorch 模型 from via 这个 state-dict 方法 described in 第 5:\n",
        "\n",
        "```python\n",
        "state_dict = torch.加载(\"model_state_dict.pth\")\n",
        "模型.load_state_dict(state_dict) \n",
        "```"
      ]
    },
    {
      "cell_type": "markdown",
      "id": "e3f9fbb2-3e39-41ee-8a08-58ba0434a8f3",
      "metadata": {},
      "source": [
        "### Choose 模型"
      ]
    },
    {
      "cell_type": "code",
      "execution_count": 1,
      "id": "b0467eff-b43c-4a38-93e8-5ed87a5fc2b1",
      "metadata": {},
      "outputs": [
        {
          "name": "stdout",
          "output_type": "stream",
          "text": [
            "torch version: 2.6.0\n"
          ]
        }
      ],
      "source": [
        "from importlib.metadata import version\n\npkgs = [\"torch\"]\nfor p in pkgs:\n    print(f\"{p} version: {version(p)}\")"
      ]
    },
    {
      "cell_type": "code",
      "execution_count": 2,
      "id": "9ea9b1bc-7881-46ad-9555-27a9cf23faa7",
      "metadata": {},
      "outputs": [],
      "source": [
        "BASE_CONFIG = {\n    \"vocab_size\": 50257,    # Vocabulary size\n    \"context_length\": 1024, # Context length\n    \"drop_rate\": 0.0,       # Dropout rate\n    \"qkv_bias\": True        # Query-key-value 偏置\n}\n\nmodel_configs = {\n    \"gpt2-small (124M)\": {\"emb_dim\": 768, \"n_layers\": 12, \"n_heads\": 12},\n    \"gpt2-medium (355M)\": {\"emb_dim\": 1024, \"n_layers\": 24, \"n_heads\": 16},\n    \"gpt2-large (774M)\": {\"emb_dim\": 1280, \"n_layers\": 36, \"n_heads\": 20},\n    \"gpt2-xl (1558M)\": {\"emb_dim\": 1600, \"n_layers\": 48, \"n_heads\": 25},\n}\n\n\nCHOOSE_MODEL = \"gpt2-small (124M)\"\nBASE_CONFIG.update(model_configs[CHOOSE_MODEL])"
      ]
    },
    {
      "cell_type": "markdown",
      "id": "d78fc2b0-ba27-4aff-8aa3-bc6e04fca69d",
      "metadata": {},
      "source": [
        "### Download file"
      ]
    },
    {
      "cell_type": "code",
      "execution_count": 3,
      "id": "ca224672-a0f7-4b39-9bc9-19ddde69487b",
      "metadata": {},
      "outputs": [],
      "source": [
        "file_name = \"gpt2-small-124M.pth\"\n# file_name = \"gpt2-medium-355M.pth\"\n# file_name = \"gpt2-large-774M.pth\"\n# file_name = \"gpt2-xl-1558M.pth\""
      ]
    },
    {
      "cell_type": "code",
      "execution_count": 4,
      "id": "e7b22375-6fac-4e90-9063-daa4de86c778",
      "metadata": {},
      "outputs": [
        {
          "name": "stdout",
          "output_type": "stream",
          "text": [
            "Downloaded to gpt2-small-124M.pth\n"
          ]
        }
      ],
      "source": [
        "import os\nimport urllib.request\n\nurl = f\"https://huggingface.co/rasbt/gpt2-from-scratch-pytorch/resolve/main/{file_name}\"\n\nif not os.path.exists(file_name):\n    urllib.request.urlretrieve(url, file_name)\n    print(f\"Downloaded to {file_name}\")"
      ]
    },
    {
      "cell_type": "markdown",
      "id": "e61f0990-74cf-4b6d-85e5-4c7d0554db32",
      "metadata": {},
      "source": [
        "### 加载 weights"
      ]
    },
    {
      "cell_type": "code",
      "execution_count": 5,
      "id": "cda44d37-92c0-4c19-a70a-15711513afce",
      "metadata": {},
      "outputs": [],
      "source": [
        "import torch\nfrom llms_from_scratch.ch04 import GPTModel\n# For llms_from_scratch 安装 instructions, see:\n# https://github.com/rasbt/LLMs-from-scratch/tree/main/pkg\n\n\ngpt = GPTModel(BASE_CONFIG)\ngpt.load_state_dict(torch.load(file_name, weights_only=True))\ngpt.eval()\n\ndevice = torch.device(\"cuda\" if torch.cuda.is_available() else \"cpu\")\ngpt.to(device);"
      ]
    },
    {
      "cell_type": "markdown",
      "id": "e0297fc4-11dc-4093-922f-dcaf85a75344",
      "metadata": {},
      "source": [
        "### 生成 text"
      ]
    },
    {
      "cell_type": "code",
      "execution_count": 6,
      "id": "4ddd0d51-3ade-4890-9bab-d63f141d095f",
      "metadata": {},
      "outputs": [
        {
          "name": "stdout",
          "output_type": "stream",
          "text": [
            "Output text:\n",
            " Every effort moves forward, but it's not enough.\n",
            "\n",
            "\"I'm not going to sit here and say, 'I'm not going to do this,'\n"
          ]
        }
      ],
      "source": [
        "import tiktoken\nfrom llms_from_scratch.ch05 import generate, text_to_token_ids, token_ids_to_text\n\n\ntorch.manual_seed(123)\n\ntokenizer = tiktoken.get_encoding(\"gpt2\")\n\ntoken_ids = generate(\n    model=gpt.to(device),\n    idx=text_to_token_ids(\"Every effort moves\", tokenizer).to(device),\n    max_new_tokens=30,\n    context_size=BASE_CONFIG[\"context_length\"],\n    top_k=1,\n    temperature=1.0\n)\n\nprint(\"Output text:\\n\", token_ids_to_text(token_ids, tokenizer))"
      ]
    },
    {
      "cell_type": "markdown",
      "id": "aa4a7912-ae51-4786-8ef4-42bd53682932",
      "metadata": {},
      "source": [
        "## Alternative safetensors file"
      ]
    },
    {
      "cell_type": "markdown",
      "id": "2f774001-9cda-4b1f-88c5-ef99786a612b",
      "metadata": {},
      "source": [
        "- In addition, 这个 [https://huggingface.co/rasbt/gpt2-from-scratch-pytorch](https://huggingface.co/rasbt/gpt2-from-scratch-pytorch) repository contains so-called `.safetensors` versions of 这个 state dicts\n",
        "- 这个 appeal of `.safetensors` files lies in their secure design, as they only store tensor data 和 avoid 这个 execution of potentially malicious 代码 during loading\n",
        "- In newer versions of PyTorch (e.g., 2.0 和 newer), 一个 `weights_only=True` argument can be used with `torch.加载` (e.g., `torch.加载(\"model_state_dict.pth\", weights_only=True)`) to improve safety by skipping 这个 execution of 代码 和 loading only 这个 weights (这个 is 现在 enabled by default in PyTorch 2.6 和 newer); so in 那个 case loading 这个 weights from 这个 state dict files should not be 一个 concern (anymore)\n",
        "- However, 这个 代码 block below briefly shows 如何 to 加载 这个 模型 from these `.safetensor` files"
      ]
    },
    {
      "cell_type": "code",
      "execution_count": 7,
      "id": "c0a4fd86-4119-4a94-ae5e-13fb60d198bc",
      "metadata": {},
      "outputs": [],
      "source": [
        "file_name = \"gpt2-small-124M.safetensors\"\n# file_name = \"gpt2-medium-355M.safetensors\"\n# file_name = \"gpt2-large-774M.safetensors\"\n# file_name = \"gpt2-xl-1558M.safetensors\""
      ]
    },
    {
      "cell_type": "code",
      "execution_count": 8,
      "id": "20f96c2e-3469-47fb-bad3-e9173a1f1ba3",
      "metadata": {},
      "outputs": [
        {
          "name": "stdout",
          "output_type": "stream",
          "text": [
            "Downloaded to gpt2-small-124M.safetensors\n"
          ]
        }
      ],
      "source": [
        "import os\nimport urllib.request\n\nurl = f\"https://huggingface.co/rasbt/gpt2-from-scratch-pytorch/resolve/main/{file_name}\"\n\nif not os.path.exists(file_name):\n    urllib.request.urlretrieve(url, file_name)\n    print(f\"Downloaded to {file_name}\")"
      ]
    },
    {
      "cell_type": "code",
      "execution_count": 10,
      "id": "d16a69b3-9bb4-42f8-8e4f-cc62a1a1a083",
      "metadata": {},
      "outputs": [],
      "source": [
        "# 加载 file\n\nfrom safetensors.torch import load_file\n\ngpt = GPTModel(BASE_CONFIG)\ngpt.load_state_dict(load_file(file_name))\ngpt.eval();"
      ]
    },
    {
      "cell_type": "code",
      "execution_count": 11,
      "id": "352e57f7-8d82-4c12-900c-03e41bc9de58",
      "metadata": {},
      "outputs": [
        {
          "name": "stdout",
          "output_type": "stream",
          "text": [
            "Output text:\n",
            " Every effort moves forward, but it's not enough.\n",
            "\n",
            "\"I'm not going to sit here and say, 'I'm not going to do this,'\n"
          ]
        }
      ],
      "source": [
        "token_ids = generate(\n    model=gpt.to(device),\n    idx=text_to_token_ids(\"Every effort moves\", tokenizer).to(device),\n    max_new_tokens=30,\n    context_size=BASE_CONFIG[\"context_length\"],\n    top_k=1,\n    temperature=1.0\n)\n\nprint(\"Output text:\\n\", token_ids_to_text(token_ids, tokenizer))"
      ]
    }
  ],
  "metadata": {
    "kernelspec": {
      "display_name": "Python 3 (ipykernel)",
      "language": "python",
      "name": "python3"
    },
    "language_info": {
      "codemirror_mode": {
        "name": "ipython",
        "version": 3
      },
      "file_extension": ".py",
      "mimetype": "text/x-python",
      "name": "python",
      "nbconvert_exporter": "python",
      "pygments_lexer": "ipython3",
      "version": "3.10.16"
    }
  },
  "nbformat": 4,
  "nbformat_minor": 5
}