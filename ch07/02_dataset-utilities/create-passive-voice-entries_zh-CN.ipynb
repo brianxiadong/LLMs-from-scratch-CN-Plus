{
  "cells": [
    {
      "cell_type": "markdown",
      "id": "136a4efe-fb99-4311-8679-e0a5b6282755",
      "metadata": {},
      "source": [
        "<table style=\"width:100%\">\n",
        "<tr>\n",
        "<td style=\"vertical-align:middle; text-align:left;\">\n",
        "<font size=\"2\">\n",
        "Supplementary 代码 for 这个 <一个 href=\"http://mng.bz/orYv\">构建 一个 大语言模型 From Scratch</一个> book by <一个 href=\"https://sebastianraschka.com\">Sebastian Raschka</一个><br>\n",
        "<br>代码 repository: <一个 href=\"https://github.com/rasbt/LLMs-from-scratch\">https://github.com/rasbt/LLMs-from-scratch</一个>\n",
        "</font>\n",
        "</td>\n",
        "<td style=\"vertical-align:middle; text-align:left;\">\n",
        "<一个 href=\"http://mng.bz/orYv\"><img src=\"https://sebastianraschka.com/images/LLMs-from-scratch-images/cover-small.webp\" width=\"100px\"></一个>\n",
        "</td>\n",
        "</tr>\n",
        "</table>"
      ]
    },
    {
      "cell_type": "markdown",
      "id": "b1910a06-e8a3-40ac-8201-ff70615b1ba4",
      "metadata": {
        "tags": []
      },
      "source": [
        "# 创建 \"Passive Voice\" Entries for 一个 Instruction 数据集"
      ]
    },
    {
      "cell_type": "markdown",
      "id": "a128651b-f326-4232-a994-42f38b7ed520",
      "metadata": {},
      "source": [
        "- 这个 笔记本 uses OpenAI's GPT-4 to 创建 \"passive voice\" entries for 一个 instruction 数据集, as shown in 这个 示例 below\n",
        "\n",
        "```python\n",
        "{  \n",
        "   'instruction': 'Identify 这个 verb in 这个 following sentence',\n",
        "   '输入': '这个 cat sleeps on 这个 couch.',\n",
        "   '输出': '这个 verb in 这个 sentence is \"sleeps.\"',\n",
        "   'output_2': '这个 sentence is \"sleeps.\"'   #  <---- Newly created entry\n",
        "}  \n",
        "```"
      ]
    },
    {
      "cell_type": "code",
      "execution_count": 1,
      "id": "267ba0d1-b884-42df-85bd-0be746fd47a5",
      "metadata": {},
      "outputs": [],
      "source": [
        "# pip 安装 -r 依赖-extra.txt"
      ]
    },
    {
      "cell_type": "code",
      "execution_count": 2,
      "id": "63610acc-db94-437f-8d38-e99dca0299cb",
      "metadata": {},
      "outputs": [
        {
          "name": "stdout",
          "output_type": "stream",
          "text": [
            "openai version: 1.30.3\n",
            "tqdm version: 4.65.0\n"
          ]
        }
      ],
      "source": [
        "from importlib.metadata import version\n\npkgs = [\"openai\",  # OpenAI API\n        \"tqdm\",    # Progress bar\n       ]\n\nfor p in pkgs:\n    print(f\"{p} version: {version(p)}\")"
      ]
    },
    {
      "cell_type": "markdown",
      "id": "8bcdcb34-ac75-4f4f-9505-3ce0666c42d5",
      "metadata": {},
      "source": [
        "## 测试 OpenAI API"
      ]
    },
    {
      "cell_type": "markdown",
      "id": "9558a522-650d-401a-84fc-9fd7b1f39da7",
      "metadata": {},
      "source": [
        "- 首先, 让我们 测试 如果 这个 OpenAI API is correctly 设置 up\n",
        "- 如果 你 don't have 一个 account yet, 你 need to 创建 one at https://platform.openai.com/\n",
        "- Note 那个 你 will also have to transfer some funds to your account as 这个 GPT-4 API is not free (see https://platform.openai.com/settings/organization/billing/overview)\n",
        "- Creating 这个 ~200 passive voice entries using 这个 代码 in 这个 笔记本 costs about $0.13 (13 cents)"
      ]
    },
    {
      "cell_type": "markdown",
      "id": "89343a84-0ddc-42fc-bf50-298a342b93c0",
      "metadata": {},
      "source": [
        "- 首先, 我们 need to provide our OpenAI API secret key, 哪个 can be found at https://platform.openai.com/api-keys\n",
        "- Make sure not to share 这个 key with anyone\n",
        "- 添加 这个 secret key (`\"sk-...\"`) to 这个 `config.json` file in 这个 folder"
      ]
    },
    {
      "cell_type": "code",
      "execution_count": 3,
      "id": "26900564-aba7-48ba-8ee8-6cc9a505a25c",
      "metadata": {},
      "outputs": [],
      "source": [
        "import json\nfrom openai import OpenAI\n\n# 加载 API key from 一个 JSON file. \n# Make sure to replace \"sk-...\" with your actual API key from https://platform.openai.com/api-keys\nwith open(\"config.json\", \"r\") as config_file:\n    config = json.load(config_file)\n    api_key = config[\"OPENAI_API_KEY\"]\n\nclient = OpenAI(api_key=api_key)"
      ]
    },
    {
      "cell_type": "markdown",
      "id": "16642a48-1cab-40d2-af08-ab8c2fbf5876",
      "metadata": {},
      "source": [
        "- 首先, 让我们 try 这个 API with 一个 simple 示例 to make sure 它 works as intended:"
      ]
    },
    {
      "cell_type": "code",
      "execution_count": 4,
      "id": "08e9ef2e-e816-4283-840e-43625791ad33",
      "metadata": {},
      "outputs": [
        {
          "data": {
            "text/plain": [
              "'Breakfast was eaten by me.'"
            ]
          },
          "execution_count": 4,
          "metadata": {},
          "output_type": "execute_result"
        }
      ],
      "source": [
        "def run_chatgpt(prompt, client, model=\"gpt-4-turbo\"):\n    response = client.chat.completions.create(\n        model=model,\n        messages=[{\"role\": \"user\", \"content\": prompt}],\n        temperature=0.0,\n    )\n    return response.choices[0].message.content\n\n\n# Prepare 输入\nsentence = \"I ate breakfast\"\nprompt = f\"Convert the following sentence to passive voice: '{sentence}'\"\nrun_chatgpt(prompt, client)"
      ]
    },
    {
      "cell_type": "markdown",
      "id": "162a4739-6f03-4092-a5c2-f57a0b6a4c4d",
      "metadata": {},
      "source": [
        "## 创建 JSON Entries"
      ]
    },
    {
      "cell_type": "markdown",
      "id": "ca011a8b-20c5-4101-979e-9b5fccf62f8a",
      "metadata": {},
      "source": [
        "- 接下来, 我们 加载 这个 file 我们 want to 修改:"
      ]
    },
    {
      "cell_type": "code",
      "execution_count": 5,
      "id": "8b2d393a-aa92-4190-9d44-44326a6f699b",
      "metadata": {},
      "outputs": [
        {
          "name": "stdout",
          "output_type": "stream",
          "text": [
            "Number of entries: 200\n"
          ]
        }
      ],
      "source": [
        "import json\n\njson_file = \"instruction-examples.json\"\n\nwith open(json_file, \"r\") as file:\n    json_data = json.load(file)\n    \nprint(\"Number of entries:\", len(json_data))"
      ]
    },
    {
      "cell_type": "markdown",
      "id": "39a55283-7d51-4136-ba60-f799d49f4098",
      "metadata": {},
      "source": [
        "- 和 我们 try 这个 OpenAI chat API on 一个 small sample 首先 to ensure 那个 它 works correctly:"
      ]
    },
    {
      "cell_type": "code",
      "execution_count": 6,
      "id": "735cc089-d127-480a-b39d-0782581f0c41",
      "metadata": {},
      "outputs": [
        {
          "name": "stdout",
          "output_type": "stream",
          "text": [
            "\n",
            "Input:\n",
            ">> The verb in the sentence is \"sleeps.\"\n",
            "\n",
            "Output:\n",
            ">> The sentence is \"sleeps.\"\n",
            "\n",
            "-------------------------\n",
            "\n",
            "Input:\n",
            ">> The plural form of \"goose\" is \"geese.\"\n",
            "\n",
            "Output:\n",
            ">> The plural form of \"goose\" is referred to as \"geese.\"\n",
            "\n",
            "-------------------------\n",
            "\n",
            "Input:\n",
            ">> The three primary colors are red, blue, and yellow.\n",
            "\n",
            "Output:\n",
            ">> Red, blue, and yellow are considered the three primary colors.\n",
            "\n",
            "-------------------------\n",
            "\n",
            "Input:\n",
            ">> They had finished the game.\n",
            "\n",
            "Output:\n",
            ">> The game had been finished by them.\n",
            "\n",
            "-------------------------\n",
            "\n",
            "Input:\n",
            ">> The abbreviation for \"Doctor of Philosophy\" is Ph.D.\n",
            "\n",
            "Output:\n",
            ">> The abbreviation \"Ph.D.\" is used for \"Doctor of Philosophy\".\n",
            "\n",
            "-------------------------\n"
          ]
        }
      ],
      "source": [
        "for entry in json_data[:5]:\n    text = entry[\"output\"]\n    prompt = f\"Without adding any response or explanation, convert the following text to passive voice: {text}\"\n    \n    print(\"\\nInput:\")\n    print(\">>\", text)\n    print(\"\\nOutput:\")\n    print(\">>\", run_chatgpt(prompt, client))\n    print(\"\\n-------------------------\")"
      ]
    },
    {
      "cell_type": "markdown",
      "id": "142dfaa7-429f-4eb0-b74d-ff327f79547a",
      "metadata": {},
      "source": [
        "- 让我们 现在 extend 这个 代码 to 添加 这个 generated entries to 这个 `json_data` 和 添加 一个 progress bar:"
      ]
    },
    {
      "cell_type": "code",
      "execution_count": 7,
      "id": "4f700d4b-19e5-4404-afa7-b0f093024232",
      "metadata": {},
      "outputs": [
        {
          "name": "stderr",
          "output_type": "stream",
          "text": [
            "100%|██████████████████████████████████████████████████████████████████████| 5/5 [00:04<00:00,  1.23it/s]\n"
          ]
        }
      ],
      "source": [
        "from tqdm import tqdm  # 一个 progress bar tool\n\n\nfor i, entry in tqdm(enumerate(json_data[:5]), total=len(json_data[:5])):\n    text = entry[\"output\"]\n    prompt = f\"Without adding any response or explanation, convert the following text to passive voice: {text}\"\n    json_data[i][\"output_2\"] = run_chatgpt(prompt, client)"
      ]
    },
    {
      "cell_type": "markdown",
      "id": "cd144282-0596-4e9b-9815-322cff34b400",
      "metadata": {},
      "source": [
        "- One more time, 让我们 make sure 那个 这个 new entries (`\"output_2\"`) look ok"
      ]
    },
    {
      "cell_type": "code",
      "execution_count": 8,
      "id": "5b6eaa87-a86d-42a1-a20a-b764b0d559d4",
      "metadata": {},
      "outputs": [
        {
          "data": {
            "text/plain": [
              "{'instruction': 'Identify the verb in the following sentence: The cat sleeps on the couch.',\n",
              " 'input': '',\n",
              " 'output': 'The verb in the sentence is \"sleeps.\"',\n",
              " 'output_2': 'The sentence is \"sleeps.\"'}"
            ]
          },
          "execution_count": 8,
          "metadata": {},
          "output_type": "execute_result"
        }
      ],
      "source": [
        "json_data[0]"
      ]
    },
    {
      "cell_type": "markdown",
      "id": "6970e8cf-2b18-4e3d-9f25-e6a4489c39a7",
      "metadata": {},
      "source": [
        "- 最后, 如果 everything above looks ok, 让我们 运行 这个 conversion to passive voice on our entire json 数据集 (这个 takes about 3 minutes):"
      ]
    },
    {
      "cell_type": "code",
      "execution_count": 9,
      "id": "eef99407-8ffd-4a63-b7ab-ffe30c0f0677",
      "metadata": {},
      "outputs": [
        {
          "name": "stderr",
          "output_type": "stream",
          "text": [
            "100%|██████████████████████████████████████████████████████████████████| 200/200 [03:43<00:00,  1.12s/it]\n"
          ]
        }
      ],
      "source": [
        "for i, entry in tqdm(enumerate(json_data), total=len(json_data)):\n    text = entry[\"output\"]\n    prompt = f\"Without adding any response or explanation, convert the following text to passive voice: {text}\"\n    json_data[i][\"output_2\"] = run_chatgpt(prompt, client)"
      ]
    },
    {
      "cell_type": "markdown",
      "id": "ac91ae85-2f0e-456a-be1d-56e1958f30d8",
      "metadata": {},
      "source": [
        "- After 这个 conversion is completed, 我们 保存 这个 file:"
      ]
    },
    {
      "cell_type": "code",
      "execution_count": 10,
      "id": "330cc30a-b08e-4bf0-bee2-bec0da4208de",
      "metadata": {},
      "outputs": [],
      "source": [
        "new_json_file = json_file.replace(\".json\", \"-modified.json\")\n\n\nwith open(new_json_file, \"w\") as file:\n    json.dump(json_data, file, indent=4)  # \"indent\" for pretty-printing"
      ]
    }
  ],
  "metadata": {
    "kernelspec": {
      "display_name": "Python 3 (ipykernel)",
      "language": "python",
      "name": "python3"
    },
    "language_info": {
      "codemirror_mode": {
        "name": "ipython",
        "version": 3
      },
      "file_extension": ".py",
      "mimetype": "text/x-python",
      "name": "python",
      "nbconvert_exporter": "python",
      "pygments_lexer": "ipython3",
      "version": "3.10.6"
    }
  },
  "nbformat": 4,
  "nbformat_minor": 5
}