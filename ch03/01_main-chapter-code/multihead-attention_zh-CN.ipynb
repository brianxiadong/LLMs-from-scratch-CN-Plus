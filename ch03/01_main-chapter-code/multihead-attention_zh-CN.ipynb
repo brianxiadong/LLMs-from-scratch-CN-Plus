{
  "cells": [
    {
      "cell_type": "markdown",
      "id": "be16f748-e12a-44a9-ad2b-81e320efdac4",
      "metadata": {},
      "source": [
        "<table style=\"width:100%\">\n",
        "<tr>\n",
        "<td style=\"vertical-align:middle; text-align:left;\">\n",
        "<font size=\"2\">\n",
        "Supplementary 代码 for 这个 <一个 href=\"http://mng.bz/orYv\">构建 一个 大语言模型 From Scratch</一个> book by <一个 href=\"https://sebastianraschka.com\">Sebastian Raschka</一个><br>\n",
        "<br>代码 repository: <一个 href=\"https://github.com/rasbt/LLMs-from-scratch\">https://github.com/rasbt/LLMs-from-scratch</一个>\n",
        "</font>\n",
        "</td>\n",
        "<td style=\"vertical-align:middle; text-align:left;\">\n",
        "<一个 href=\"http://mng.bz/orYv\"><img src=\"https://sebastianraschka.com/images/LLMs-from-scratch-images/cover-small.webp\" width=\"100px\"></一个>\n",
        "</td>\n",
        "</tr>\n",
        "</table>\n"
      ]
    },
    {
      "cell_type": "markdown",
      "id": "6f678e62-7bcb-4405-86ae-dce94f494303",
      "metadata": {},
      "source": [
        "# Multi-head 注意力机制 Plus Data Loading"
      ]
    },
    {
      "cell_type": "code",
      "execution_count": 1,
      "id": "ac9b5847-0515-45cd-87b0-46541f6a1f79",
      "metadata": {},
      "outputs": [
        {
          "name": "stdout",
          "output_type": "stream",
          "text": [
            "torch version: 2.2.2\n"
          ]
        }
      ],
      "source": [
        "# NBVAL_IGNORE_OUTPUT\nfrom importlib.metadata import version\n\nprint(\"torch version:\", version(\"torch\"))"
      ]
    },
    {
      "cell_type": "markdown",
      "id": "070000fc-a7b7-4c56-a2c0-a938d413a790",
      "metadata": {},
      "source": [
        "这个 完成 第 代码 is located in [ch03.ipynb](./ch03.ipynb).\n",
        "\n",
        "这个 笔记本 contains 这个 main takeaway, multihead-注意力机制 实现 (plus 这个 data loading pipeline from 第 2)"
      ]
    },
    {
      "cell_type": "markdown",
      "id": "3f60dc93-281d-447e-941f-aede0c7ff7fc",
      "metadata": {},
      "source": [
        "## 数据加载器 from 第 2"
      ]
    },
    {
      "cell_type": "code",
      "execution_count": 2,
      "id": "0ed4b7db-3b47-4fd3-a4a6-5f4ed5dd166e",
      "metadata": {},
      "outputs": [],
      "source": [
        "import tiktoken\nimport torch\nimport torch.nn as nn\nfrom torch.utils.data import Dataset, DataLoader\n\n\nclass GPTDatasetV1(Dataset):\n    def __init__(self, txt, tokenizer, max_length, stride):\n        self.input_ids = []\n        self.target_ids = []\n\n        # Tokenize 这个 entire text\n        token_ids = tokenizer.encode(txt, allowed_special={'<|endoftext|>'})\n\n        # 使用 一个 sliding window to chunk 这个 book into overlapping sequences of max_length\n        for i in range(0, len(token_ids) - max_length, stride):\n            input_chunk = token_ids[i:i + max_length]\n            target_chunk = token_ids[i + 1: i + max_length + 1]\n            self.input_ids.append(torch.tensor(input_chunk))\n            self.target_ids.append(torch.tensor(target_chunk))\n\n    def __len__(self):\n        return len(self.input_ids)\n\n    def __getitem__(self, idx):\n        return self.input_ids[idx], self.target_ids[idx]\n\n\ndef create_dataloader(txt, batch_size=4, max_length=256, stride=128, shuffle=True):\n    # 初始化 这个 分词器\n    tokenizer = tiktoken.get_encoding(\"gpt2\")\n\n    # 创建 数据集\n    dataset = GPTDatasetV1(txt, tokenizer, max_length, stride)\n\n    # 创建 dataloader\n    dataloader = DataLoader(dataset, batch_size=batch_size, shuffle=shuffle)\n\n    return dataloader\n\n\nwith open(\"small-text-sample.txt\", \"r\", encoding=\"utf-8\") as f:\n    raw_text = f.read()\n\ntokenizer = tiktoken.get_encoding(\"gpt2\")\nencoded_text = tokenizer.encode(raw_text)\n\nvocab_size = 50257\noutput_dim = 256\nmax_len = 1024\ncontext_length = max_len\n\n\ntoken_embedding_layer = nn.Embedding(vocab_size, output_dim)\npos_embedding_layer = torch.nn.Embedding(context_length, output_dim)\n\nmax_length = 4\ndataloader = create_dataloader(raw_text, batch_size=8, max_length=max_length, stride=max_length)"
      ]
    },
    {
      "cell_type": "code",
      "execution_count": 3,
      "id": "664397bc-6daa-4b88-90aa-e8fc1fbd5846",
      "metadata": {},
      "outputs": [],
      "source": [
        "for batch in dataloader:\n    x, y = batch\n\n    token_embeddings = token_embedding_layer(x)\n    pos_embeddings = pos_embedding_layer(torch.arange(max_length))\n\n    input_embeddings = token_embeddings + pos_embeddings\n\n    break"
      ]
    },
    {
      "cell_type": "code",
      "execution_count": 4,
      "id": "d3664332-e6bb-447e-8b96-203aafde8b24",
      "metadata": {},
      "outputs": [
        {
          "name": "stdout",
          "output_type": "stream",
          "text": [
            "torch.Size([8, 4, 256])\n"
          ]
        }
      ],
      "source": [
        "print(input_embeddings.shape)"
      ]
    },
    {
      "cell_type": "markdown",
      "id": "bd298bf4-e320-40c1-9084-6526d07e6d5d",
      "metadata": {},
      "source": [
        "# Multi-head 注意力机制 from 第 3"
      ]
    },
    {
      "cell_type": "markdown",
      "id": "58b2297b-a001-49fd-994c-b1700866cd01",
      "metadata": {},
      "source": [
        "## Variant 一个: Simple 实现"
      ]
    },
    {
      "cell_type": "code",
      "execution_count": 5,
      "id": "a44e682d-1c3c-445d-85fa-b142f89f8503",
      "metadata": {},
      "outputs": [],
      "source": [
        "class CausalSelfAttention(nn.Module):\n\n    def __init__(self, d_in, d_out, context_length, dropout, qkv_bias=False):\n        super().__init__()\n        self.d_out = d_out\n        self.W_query = nn.Linear(d_in, d_out, bias=qkv_bias)\n        self.W_key   = nn.Linear(d_in, d_out, bias=qkv_bias)\n        self.W_value = nn.Linear(d_in, d_out, bias=qkv_bias)\n        self.dropout = nn.Dropout(dropout) # New\n        self.register_buffer('mask', torch.triu(torch.ones(context_length, context_length), diagonal=1)) # New\n\n    def forward(self, x):\n        b, n_tokens, d_in = x.shape # New batch dimension b\n        keys = self.W_key(x)\n        queries = self.W_query(x)\n        values = self.W_value(x)\n\n        attn_scores = queries @ keys.transpose(1, 2) # Changed transpose\n        attn_scores.masked_fill_(  # New, _ ops are in-place\n            self.mask.bool()[:n_tokens, :n_tokens], -torch.inf) \n        attn_weights = torch.softmax(attn_scores / keys.shape[-1]**0.5, dim=-1)\n        attn_weights = self.dropout(attn_weights) # New\n\n        context_vec = attn_weights @ values\n        return context_vec\n\n\nclass MultiHeadAttentionWrapper(nn.Module):\n    def __init__(self, d_in, d_out, context_length, dropout, num_heads, qkv_bias=False):\n        super().__init__()\n        self.heads = nn.ModuleList(\n            [CausalSelfAttention(d_in, d_out, context_length, dropout, qkv_bias) \n             for _ in range(num_heads)]\n        )\n        self.out_proj = nn.Linear(d_out*num_heads, d_out*num_heads)\n\n    def forward(self, x):\n        context_vec = torch.cat([head(x) for head in self.heads], dim=-1)\n        return self.out_proj(context_vec)"
      ]
    },
    {
      "cell_type": "code",
      "execution_count": 6,
      "id": "7898551e-f582-48ac-9f66-3632abe2a93f",
      "metadata": {},
      "outputs": [
        {
          "name": "stdout",
          "output_type": "stream",
          "text": [
            "context_vecs.shape: torch.Size([8, 4, 256])\n"
          ]
        }
      ],
      "source": [
        "torch.manual_seed(123)\n\ncontext_length = max_length\nd_in = output_dim\n\nnum_heads=2\nd_out = d_in // num_heads\n\nmha = MultiHeadAttentionWrapper(d_in, d_out, context_length, 0.0, num_heads)\n\nbatch = input_embeddings\ncontext_vecs = mha(batch)\n\nprint(\"context_vecs.shape:\", context_vecs.shape)"
      ]
    },
    {
      "cell_type": "markdown",
      "id": "1e288239-5146-424d-97fe-74024ae711b9",
      "metadata": {},
      "source": [
        "## Variant B: Alternative 实现"
      ]
    },
    {
      "cell_type": "code",
      "execution_count": 7,
      "id": "2773c09d-c136-4372-a2be-04b58d292842",
      "metadata": {},
      "outputs": [],
      "source": [
        "class MultiHeadAttention(nn.Module):\n    def __init__(self, d_in, d_out, context_length, dropout, num_heads, qkv_bias=False):\n        super().__init__()\n        assert d_out % num_heads == 0, \"d_out must be divisible by num_heads\"\n\n        self.d_out = d_out\n        self.num_heads = num_heads\n        self.head_dim = d_out // num_heads # Reduce 这个 projection dim to match desired 输出 dim\n\n        self.W_query = nn.Linear(d_in, d_out, bias=qkv_bias)\n        self.W_key = nn.Linear(d_in, d_out, bias=qkv_bias)\n        self.W_value = nn.Linear(d_in, d_out, bias=qkv_bias)\n        self.out_proj = nn.Linear(d_out, d_out)  # Linear 层 to combine head outputs\n        self.dropout = nn.Dropout(dropout)\n        self.register_buffer('mask', torch.triu(torch.ones(context_length, context_length), diagonal=1))\n\n    def forward(self, x):\n        b, num_tokens, d_in = x.shape\n\n        keys = self.W_key(x) # Shape: (b, num_tokens, d_out)\n        queries = self.W_query(x)\n        values = self.W_value(x)\n\n        # 我们 implicitly split 这个 matrix by adding 一个 `num_heads` dimension\n        # Unroll last dim: (b, num_tokens, d_out) -> (b, num_tokens, num_heads, head_dim)\n        keys = keys.view(b, num_tokens, self.num_heads, self.head_dim) \n        values = values.view(b, num_tokens, self.num_heads, self.head_dim)\n        queries = queries.view(b, num_tokens, self.num_heads, self.head_dim)\n\n        # Transpose: (b, num_tokens, num_heads, head_dim) -> (b, num_heads, num_tokens, head_dim)\n        keys = keys.transpose(1, 2)\n        queries = queries.transpose(1, 2)\n        values = values.transpose(1, 2)\n\n        # 计算 scaled dot-product 注意力机制 (aka self-注意力机制) with 一个 causal mask\n        attn_scores = queries @ keys.transpose(2, 3)  # Dot product for each head\n        \n        # Original mask truncated to 这个 number of tokens 和 converted to boolean\n        mask_bool = self.mask.bool()[:num_tokens, :num_tokens]\n\n        # 使用 这个 mask to fill 注意力机制 scores\n        attn_scores.masked_fill_(mask_bool, -torch.inf)\n        \n        attn_weights = torch.softmax(attn_scores / keys.shape[-1]**0.5, dim=-1)\n        attn_weights = self.dropout(attn_weights)\n\n        # Shape: (b, num_tokens, num_heads, head_dim)\n        context_vec = (attn_weights @ values).transpose(1, 2) \n        \n        # Combine heads, 哪里 self.d_out = self.num_heads * self.head_dim\n        context_vec = context_vec.contiguous().view(b, num_tokens, self.d_out)\n        context_vec = self.out_proj(context_vec) # optional projection\n\n        return context_vec"
      ]
    },
    {
      "cell_type": "code",
      "execution_count": 8,
      "id": "779fdd04-0152-4308-af08-840800a7f395",
      "metadata": {},
      "outputs": [
        {
          "name": "stdout",
          "output_type": "stream",
          "text": [
            "context_vecs.shape: torch.Size([8, 4, 256])\n"
          ]
        }
      ],
      "source": [
        "torch.manual_seed(123)\n\ncontext_length = max_length\nd_in = output_dim\nd_out = d_in\n\nmha = MultiHeadAttention(d_in, d_out, context_length, 0.0, num_heads=2)\n\nbatch = input_embeddings\ncontext_vecs = mha(batch)\n\nprint(\"context_vecs.shape:\", context_vecs.shape)"
      ]
    }
  ],
  "metadata": {
    "kernelspec": {
      "display_name": "Python 3 (ipykernel)",
      "language": "python",
      "name": "python3"
    },
    "language_info": {
      "codemirror_mode": {
        "name": "ipython",
        "version": 3
      },
      "file_extension": ".py",
      "mimetype": "text/x-python",
      "name": "python",
      "nbconvert_exporter": "python",
      "pygments_lexer": "ipython3",
      "version": "3.11.4"
    }
  },
  "nbformat": 4,
  "nbformat_minor": 5
}